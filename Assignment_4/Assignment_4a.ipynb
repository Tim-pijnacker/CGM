{
 "cells": [
  {
   "cell_type": "markdown",
   "metadata": {},
   "source": [
    "# Assignment 4a Cognitive Modelling\n",
    "\n",
    "Dit is de eerste helft van de vierde opdracht voor Cognitive Modelling. Het totaal aantal punten dat je voor assignment 4a kan halen is __49 punten__.\n",
    "\n",
    "Bij elke vraag staat de hoeveelheid punten die je er voor kan krijgen. Geef antwoorden in blokken met code of met tekst. Gebruik voor antwoorden met tekst de \">\" voor blockquotes en geef bij elke vraag ook __kort uitleg__ als hier om wordt gevraagd. __Let op__: soms staan er meerdere vragen bij een onderdeel, lees de tekst dus nauwkeurig. \n",
    "\n",
    "Sla het uiteindelijke notebook op met jullie studentnummers en achternamen in de filenaam: `studentnummer_achternaam_opdrachtnummer`."
   ]
  },
  {
   "cell_type": "code",
   "execution_count": 1,
   "metadata": {},
   "outputs": [],
   "source": [
    "import math\n",
    "import numpy as np\n",
    "from scipy import optimize\n",
    "\n",
    "%matplotlib inline\n",
    "import matplotlib.pyplot as plt"
   ]
  },
  {
   "cell_type": "markdown",
   "metadata": {},
   "source": [
    "<br>\n",
    "\n",
    "## Part 1\n",
    "\n",
    "In reinforcement learning and artifical intelligence wordt eigenlijk maar weinig gekeken naar keuzes, ook al is het maken van eigen (goede?) keuzes een belangrijk aspect van mens zijn. Daarnaast weet iedereen dat kiezen helemaal niet altijd makkelijk is. In de meest algoritmes waar we nu naar hebben gekeken zag je dat er óf een exploratie keuze was óf simple max Q werd gekozen (de optie met de hoogste verwachte uitkomst). \n",
    "\n",
    "In de kleine werelden van spellen is vaak heel duidelijk gedefineerd wat de belonging is of hoeveel punten je ergens voor krijgt en is meer punten altijd beter dan minder. Maar in de echte wereld is dit niet altijd het geval en zijn gevolgen ook niet altijd even duidelijk. Ook hebben we in het morele domein gezien dat een simpele calculus (hoeveel doden vallen er in het trolly dilemma) niet altijd is hoe wij zouden willen dat een A.I. keuzes maakt. \n",
    "\n",
    "We gaan in onderstaande opdracht naar een aantal modelen kijken van keuze gedrag, dit moet je een idee geven hoe je dit zou kunnen implementeren.\n",
    "\n",
    "<br>\n",
    "\n",
    "## 1. The pizza problem 🍕\n",
    "\n",
    "Wat goed is, is vaak subjectief. Stel je voor dat het vrijdagavond is, en je favoriete pizzeria heeft een speciale aanbieding: twee 12 inch pizza's voor de prijs van één 18 inch pizza. Laat we voor het gemak zeggen dat een 18 inch pizza 10 euro kost. Wat zou jij kiezen? \n",
    "\n",
    "![](Images\\pizza_problem_guest_martin_2020.png)\n",
    "\n",
    "Is dit een goede aanbieding? Het antwoord is... dat ligt er aan. Deze vraag is eens op twitter gesteld en er kwamen verassend veel verschillende antwoorden (Guest & Martin, 2020). Sommige vonden van wel, andere hadden een goede reden waarom niet. Zo zei iemand dat twee pizzas meer is dan één, maar een ander zei dat de ene pizza in totaal meer pizza is dan de twee kleine samen.\n",
    "\n",
    "Welke optie je moet kiezen ligt er aan waar je het meeste waarde aan hecht, oftewel wat heeft het grootste nut (utilitiy)? \n",
    "\n",
    "<br>\n",
    "\n",
    "### Q1.a (3 pts)\n",
    "\n",
    "Schrijf een _Utilitiy Functie_ `def utility_area()` die het nut van een aantal pizza's berekent zoals sommige mensen dat doen: op basis van de totale oppervlakte. Welke optie zouden deze mensen kiezen: 2 pizza's van 12 inch, 1 pizza van 18 inch, of 3 pizza's van 10 inch?\n",
    "\n",
    "ps. 12\" pizza betekent een diameter van 12\" inch"
   ]
  },
  {
   "cell_type": "code",
   "execution_count": 2,
   "metadata": {},
   "outputs": [
    {
     "name": "stdout",
     "output_type": "stream",
     "text": [
      "oppervlakte voor 2x 12 inch pizza:  226.1946710584651\n",
      "oppervlakte voor 1x 18 inch pizza:  254.46900494077323\n",
      "\n",
      "Dus op basis van totale oppervlakte zouden mensen kiezen voor 1 pizza met een diameter van 18 inch\n"
     ]
    }
   ],
   "source": [
    "def utility_area(d):\n",
    "    return np.pi * np.square(d / 2)\n",
    "\n",
    "print(\"oppervlakte voor 2x 12 inch pizza: \", 2*utility_area(12))\n",
    "print(\"oppervlakte voor 1x 18 inch pizza: \", utility_area(18))\n",
    "print(\"\\nDus op basis van totale oppervlakte zouden mensen kiezen voor 1 pizza met een diameter van 18 inch\")"
   ]
  },
  {
   "cell_type": "markdown",
   "metadata": {},
   "source": [
    "Ik heb een theorie dat de mensen die voor twee pizza's zouden gaan in plaats van voor één pizza, de korst lekkerder vinden dan de binnenkant van de pizza. Ik wil kijken of deze theorie het gedrag van deze mensen kan verklaren.\n",
    "Het totale nut van een pizza is nu dus uitgedrukt in het nut (oppervlakte) van de korst plus het nut van de binnenkant van de pizza.\n",
    "\n",
    "### Q1.b (4 pts)\n",
    "Schrijf een _Utilitiy Functie_ `def utility_yummy_crust()` die personen beschrijft die een $x$ aantal keer meer houden van de korst dan van de binnenkant van de pizza.\n",
    "\n",
    "Laten we er van uit gaan dat de korst 1\" inch dik is. Hoeveel moet een persoon de korst op z'n minst lekkerder vinden om te kiezen voor de optie met twee pizzas? De utility (oppervlakte) van de korst is hierbij dus $x$ keer hoger dan de utility van de binnenkant. Een ongeveer antwoord is goed, maar je kan de parameter ook optimaliseren. \n"
   ]
  },
  {
   "cell_type": "code",
   "execution_count": 3,
   "metadata": {},
   "outputs": [],
   "source": [
    "def utility_yummy_crust(d, d_crust=1, x=1):\n",
    "    ut_total = utility_area(d)\n",
    "    ut_binnen = utility_area(d - d_crust*2)\n",
    "    ut_korst = ut_total - ut_binnen\n",
    "    return ut_binnen + ut_korst*x"
   ]
  },
  {
   "cell_type": "code",
   "execution_count": 4,
   "metadata": {},
   "outputs": [
    {
     "name": "stdout",
     "output_type": "stream",
     "text": [
      "Een persoon moet de korst op zn minst 2.818 keer lekkerder vinden dan de binnenkant om te kiezen voor 2x 12 inch pizzas in plaats van een 18 inch pizza\n"
     ]
    }
   ],
   "source": [
    "cms = np.linspace(1, 3, 100)\n",
    "\n",
    "opt_1 = [ 2*utility_yummy_crust(12, x=cm) for cm in cms]\n",
    "opt_2 = [ utility_yummy_crust(18, x=cm) for cm in cms]\n",
    "\n",
    "for i in range(100):\n",
    "    if opt_1[i] >= opt_2[i]:\n",
    "        x_opt = cms[i]\n",
    "        break\n",
    "\n",
    "print(f\"Een persoon moet de korst op zn minst {np.round(x_opt,3)} keer lekkerder vinden dan de binnenkant om te kiezen voor 2x 12 inch pizzas in plaats van een 18 inch pizza\")\n"
   ]
  },
  {
   "cell_type": "markdown",
   "metadata": {},
   "source": [
    "Dit is slechts een hypothetisch voorbeeld over hoe je een psychologische theorie over keuzegedrag kan formaliseren in een wiskundige formule. Dit kan heel erg behulpzaam zijn want deze precieze voorspellingen kunnen makkelijk getoetst worden in de toekomst. \n",
    "\n",
    "### Q1.c (2 pts)\n",
    "Stel dat je nu tot de hypothese gekomen bent dat mensen de korst van de pizza 3 keer zo lekker vinden als de binnenkant. Zal deze persoon nog liever drie pizzas van 9 inch willen? "
   ]
  },
  {
   "cell_type": "code",
   "execution_count": 5,
   "metadata": {},
   "outputs": [
    {
     "name": "stdout",
     "output_type": "stream",
     "text": [
      "364.424747816416\n",
      "341.64820107789\n"
     ]
    }
   ],
   "source": [
    "print(2*utility_yummy_crust(12,1,3))\n",
    "print(3*utility_yummy_crust(9,1,3))"
   ]
  },
  {
   "cell_type": "markdown",
   "metadata": {},
   "source": [
    "> Nee, mensen die de korst van de pizza 3 keer zo lekker vinden als de binnenkant geven een hogere utility score aan 2 pizzas van 12 inch dan 3 pizzas van 9 inch."
   ]
  },
  {
   "cell_type": "markdown",
   "metadata": {},
   "source": [
    "<br>\n",
    "\n",
    "---\n",
    "\n",
    "## 2. Een loterij 💰 \n",
    "\n",
    " Bijna alle keuzes in het dagelijks leven hebben een element van kans of onzekerheid. Op je fiets naar de campus, net oversteken bij het rode licht, etc. Je houding ten opzicht van risico's bepaalt ook veel van de keuzes die je in het leven maakt. Ga je een stage doen in het buitenland bij een onbekende groep? Of blijf je lekker op de vertrouwde campus?\n",
    "\n",
    "Zoals in het college besproken, worden loterijen vaak gebruikt om te bestuderen hoe mensen met risico en onzekerheid omgaan. De hoofdprijs uit de loterij is fantastisch, maar het is heel onzeker (de kans is klein) dat je deze ook echt krijgt. Hier gaan we kort kijken naar die modellen en toepassen op jouw eigen keuzes, om zo te begrip te krijgen hoe jij met risico/onzekerheid omgaat. \n",
    "\n",
    "### Mini-experiment\n",
    "In de bijlage `Risk_Q.pdf` vind je een lijst met keuzes tussen twee loterijen, zoals in het figuur hieronder. Voor elke loterij zijn er telkens twee mogelijke uitkomsten, aan jou de vraag welke loterij je zou kiezen als je er een moet uitkiezen. Kijk goed naar de uitkomsten en kansen en vink aan welke loterij je kiest.\n",
    "\n",
    "<img src=\"Images\\loterij.png\" style=\"width: 750px;\"/>\n",
    "\n",
    "\n",
    "### Q2 (5 pts)\n",
    "\n",
    "Als je alle keuzes gemaakt hebt, gebruik dan `data_self.txt` om je eigen keuzes op te slaan, onder jouw naam `studentnummer_data.txt`:\n",
    "\n",
    "        p1,o1,p2,o2: p's and o's of gamble 1  (p is probability, o is outcome)\n",
    "        p3,o3,p4,o4: p's and o's of gamble 2 \n",
    "        decision: choice (1 = gamble 1, 2 = gamble 2)\n",
    "\n",
    "<img src=\"Images\\example_data.png\" style=\"width: 650px;\"/>\n",
    "\n",
    "Zorg dat je dit databestand inlevert op Canvas, anders krijg je geen punten voor deze opdracht."
   ]
  },
  {
   "cell_type": "markdown",
   "metadata": {},
   "source": [
    "<br>\n",
    "\n",
    "---\n",
    "\n",
    "## 3. Prospect Theory\n",
    "\n",
    "Prospect theory, ook wel cumulative prospect theory (CPT), is een theorie die beschrijft hoe mensen uitkomsten en waarschijnlijkheden wegen en tot een beslissing komen. Het gebruikt hiervoor een combinatie van vier verschillende functies:\n",
    "\n",
    "1. Een functie die objectieve uitkomsten transformeert naar subjectieve waarde $v(x)$\n",
    "2. Een functie die waarschijnlijkheid transformeert naar subjectieve waarschijnlijkheid $w(p)$\n",
    "3. Een functie die subjectieve waarden en waarschijnlijkheden van een optie integreert tot een subjectieve verwachte waarde (expected value) $EV(x)$\n",
    "4. Een beslis regel die uitrekent met welke waarschijnlijkheid een van twee opties wordt gekozen (in dit geval $P_x$) (de $U$ in de functie staat voor Utility, of expected value).\n",
    "\n",
    "<img src=\"Images\\functions.png\" style=\"width: 550px;\"/>\n",
    "\n",
    "<br> <br>\n",
    "\n",
    "### Q3.a (9 pts)\n",
    "\n",
    "Schrijf voor elke van deze 4 functies een functie in Python. Geef bij elke functie aan welke vrije variabelen deze heeft en wat die betekenen.\n"
   ]
  },
  {
   "cell_type": "code",
   "execution_count": 6,
   "metadata": {},
   "outputs": [],
   "source": [
    "def cpt_sub_value(x, alpha, beta, lab):\n",
    "    if x >= 0:\n",
    "        return np.power(x,alpha)\n",
    "    return -lab*np.power(-x,beta)\n",
    "    \n",
    "def cpt_prob_weight(p, gamma):\n",
    "    return np.power(p, gamma) / np.power(np.power(p, gamma) + np.power(1-p, gamma), 1/gamma)\n",
    "\n",
    "def cpt_ev(p, x):\n",
    "    return p * x\n",
    "\n",
    "def cpt_choice(Ux, Uy, theta):\n",
    "    return 1 / (1 + np.exp(-theta*(Ux - Uy)))"
   ]
  },
  {
   "cell_type": "markdown",
   "metadata": {},
   "source": [
    "> cpt_sub_value:\n",
    "> > alpha meet de kromming van de waarde voor winsten, beta meet de kromming van de waarde voor verliezen en lambda is coëfficiënt van verliesaversie\n",
    "\n",
    "> cpt_prob_weight:\n",
    "> > gamma is de waarschijnlijkheidsweging\n",
    "\n",
    "> cpt_choice:\n",
    "> > Theta is de temperatuur parameter"
   ]
  },
  {
   "cell_type": "markdown",
   "metadata": {},
   "source": [
    "<br>\n",
    "\n",
    "### Q3.b (4 pts)\n",
    "\n",
    "Plot de subjectieve waarde functie `cpt_sub_value` voor objectieve waardes tussen 0 en 1000, gebruik makende van verschillende waarden van $\\alpha$, elke in een aparte grafiek:\n",
    "\n",
    "$$\\alpha \\in \\{0.7, 1.3, 1.7\\}$$\n",
    "\n",
    "*Hint:* Gebruik [vectorize](https://docs.scipy.org/doc/numpy/reference/generated/numpy.vectorize.html) om een bestaande functie op een gehele [ndarray](https://docs.scipy.org/doc/numpy/reference/generated/numpy.ndarray.html) tegelijk te kunnen toepassen, en zo alle subjectieve waardes in 1 keer uit te rekenen. (zie onderstaand voorbeeld voor  alpha = 0.8)\n",
    "\n",
    "    vec_sub_value = np.vectorize(cpt_sub_value, excluded=[1,2,3])\n",
    "\n",
    "    x = np.array(range(1000))\n",
    "    for alpha in [0.8]:\n",
    "        y = vec_sub_value(x, alpha, 0, 0)\n",
    "        plt.plot(x, y, label=r'$\\alpha =$'+str(alpha))\n",
    "\n",
    "    plt.legend()\n",
    "    plt.show()\n",
    "\n",
    "De meeste mensen zijn risicomijdend, welke grafiek beschrijft dus het best het gedrag van mensen? Leg uit. "
   ]
  },
  {
   "cell_type": "code",
   "execution_count": 7,
   "metadata": {},
   "outputs": [
    {
     "data": {
      "image/png": "[encoded data removed]",
      "text/plain": [
       "<Figure size 432x288 with 1 Axes>"
      ]
     },
     "metadata": {
      "needs_background": "light"
     },
     "output_type": "display_data"
    }
   ],
   "source": [
    "vec_sub_value = np.vectorize(cpt_sub_value, excluded=[1,2,3])\n",
    "\n",
    "x = np.array(range(1000))\n",
    "for alpha in [0.7, 1.3, 1.7]:\n",
    "    y = vec_sub_value(x, alpha, 0, 0)\n",
    "    plt.plot(x, y, label=r'$\\alpha =$'+str(alpha))\n",
    "\n",
    "plt.legend()\n",
    "plt.show()"
   ]
  },
  {
   "cell_type": "markdown",
   "metadata": {},
   "source": [
    "> *Antwoord*"
   ]
  },
  {
   "cell_type": "markdown",
   "metadata": {},
   "source": [
    "<br>\n",
    "\n",
    "### Q3.c (4 pts)\n",
    "\n",
    "Plot de subjectieve waarde functie `cpt_sub_value` voor objectieve waardes tussen 0 en -1000, gebruik makende van verschillende waarden van $\\beta$ en $\\lambda$, en label deze lijnen voor:\n",
    "\n",
    "$$\\beta = 0.7$$\n",
    "$$\\lambda \\in \\{0.5, 1.5\\}$$\n",
    "\n",
    "De meeste mensen vinden verliezen van 200 euro relatief erger dan dat ze blij zijn met het winnen van 200 euro, dus welke waarde van $\\lambda$ pas het best bij menselijk gedrag? (hint kijk dus ook weer even naar grafiek met $\\alpha$ hierboven)"
   ]
  },
  {
   "cell_type": "code",
   "execution_count": 8,
   "metadata": {},
   "outputs": [],
   "source": [
    "# TO DO"
   ]
  },
  {
   "cell_type": "markdown",
   "metadata": {},
   "source": [
    "> *Antwoord*"
   ]
  },
  {
   "cell_type": "markdown",
   "metadata": {},
   "source": [
    "<br>\n",
    "\n",
    "### Q3.d (3 pts)\n",
    "\n",
    "Plot de waarschijnlijkheids functie `cpt_prob_weight` die waarschijnlijkheden tussen $0.1$ en $0.9$ omzet naar subjectieve waarschijnlijkheden, gebruik makende van verschillende waarden van $\\gamma = {0.5, 0.75, 1, 1.25, 1.5}$, en label deze lijnen.\n",
    "\n",
    "Wat staat er op de x-as? En op de y-as? Bij welke waarde(s) van gamma vind je het gebruikelijke patroon dat mensen laten zien? (zie grafiek in college slides, plot ook een identity line $(x=y)$)."
   ]
  },
  {
   "cell_type": "code",
   "execution_count": 9,
   "metadata": {},
   "outputs": [],
   "source": [
    "vec_prob_weight = np.vectorize(cpt_prob_weight, excluded=[1])\n",
    "# TO DO"
   ]
  },
  {
   "cell_type": "markdown",
   "metadata": {},
   "source": [
    "> *Antwoord*"
   ]
  },
  {
   "cell_type": "markdown",
   "metadata": {},
   "source": [
    "<br>\n",
    "\n",
    "### Q3.e (3 pts)\n",
    "\n",
    "Laten we nu kijken naar hoe verschillende parameter waarden kunnen leiden tot verschillende keuzes. Laten we er voor het gemak even vanuit gaan dat de proefpersoon altijd simpelweg de optie kiest met de hoogste verwachtte uitkomst. Beschouw de volgende twee opties:\n",
    "\n",
    "    A: 1% kans op 1000 euro, en anders niets \n",
    "    B: 50% kans op 20 euro, en anders niets\n",
    "\n",
    "Vergelijk de uitkomsten voor de 4 mogelijke combinaties met $\\alpha \\in \\{0.3, 1.5\\}$ en $\\gamma \\in \\{0.5, 2.0\\}$ en vertel welke loterij verkozen wordt. "
   ]
  },
  {
   "cell_type": "code",
   "execution_count": 10,
   "metadata": {},
   "outputs": [],
   "source": [
    "# TO DO"
   ]
  },
  {
   "cell_type": "markdown",
   "metadata": {},
   "source": [
    "> *Antwoord*"
   ]
  },
  {
   "cell_type": "markdown",
   "metadata": {},
   "source": [
    "<br>\n",
    "\n",
    "---\n",
    "\n",
    "## 4. Model fitting 🏋\n",
    "\n",
    "We gaan nu kijken naar de resultaten van een echt experiment. We hebben de data van een aantal proefpersonen die een heel aantal loterijen heeft gespeeld. In de data file kunnen we terugvinden welke van 2 opties zij gekozen hebben. We gaan kijken hoe goed CPT het gedrag van de proefpersonen kan voorspellen, en wat voor een parameter waardes dit oplevert. De data file die we zullen gebruiken is `data_LC4.txt`:\n",
    "\n",
    "    Data Coding:\n",
    "    Subject: is subject nr.\n",
    "    p1,o1,p2,o2:    p's and o's of gamble 1  (p is probability, o is outcome)\n",
    "    p3,o3,p4,o4:    p's and o's of gamble 2 \n",
    "    decision:       choice (1 = gamble 1, 2 = gamble 2)\n",
    "   \n",
    "Elke gamble wordt beschreven, net als hierboven, door twee kansen en twee uitkomsten. \n",
    "Schrijf een `CPT_fit` functie zodat je deze op de data van de proefpersonen kan fitten. \n",
    "We gaan voor het fitten van het model gebruik maken van [optimize.minimize](https://docs.scipy.org/doc/scipy/reference/generated/scipy.optimize.minimize.html) en we gaan proberen Log Likelihood te maximaliseren. Net als in de vorige notebooks. \n",
    "\n",
    "In het databestand van de proefpersoon kunnen we zien welke van de 2 loterijen de proefpersoon koos. Wat we op elke trial willen weten is wat de waarschijnlijkheid is dat het model dezelfde keuze maakt als de proefpersoon, gegeven de huidige parameter waardes. Hoe hoe groter die kans (likelihood) is hoe beter het model fit.\n",
    "\n",
    "<br>\n",
    "\n",
    "### Q4.a (8 pts)\n",
    "\n",
    "Gebruik de onderstaande code en  functie `CPT_fit`. Deze functie kan worden gebruikt om de parameters van CPT te vinden die het best de keuzes van een persoon beschrijven.\n",
    "\n",
    "We gebruiken als startwaarden $\\alpha=0.5$, $\\beta=0.5$, $\\lambda=0.5$, $\\gamma=0.5$ en $\\theta=0.05$, en gebruik [Nelder-Mead](https://docs.scipy.org/doc/scipy/reference/optimize.minimize-neldermead.html#optimize-minimize-neldermead) als de methode voor de minimalisatie.\n",
    "\n",
    "ps. RuntimeWarning: divide by zero encountered in double_scalars kan soms voorkomen, dat is niet per se een probleem. \n"
   ]
  },
  {
   "cell_type": "code",
   "execution_count": 11,
   "metadata": {
    "scrolled": true
   },
   "outputs": [
    {
     "ename": "NameError",
     "evalue": "name 'vec_EV' is not defined",
     "output_type": "error",
     "traceback": [
      "\u001b[1;31m---------------------------------------------------------------------------\u001b[0m",
      "\u001b[1;31mNameError\u001b[0m                                 Traceback (most recent call last)",
      "Input \u001b[1;32mIn [11]\u001b[0m, in \u001b[0;36m<cell line: 36>\u001b[1;34m()\u001b[0m\n\u001b[0;32m     33\u001b[0m games \u001b[38;5;241m=\u001b[39m data[:,\u001b[38;5;241m3\u001b[39m:\u001b[38;5;241m11\u001b[39m]               \u001b[38;5;66;03m# p1, o1, p2, o2, p3, o3, p4, o4\u001b[39;00m\n\u001b[0;32m     34\u001b[0m choices \u001b[38;5;241m=\u001b[39m data[:, \u001b[38;5;241m12\u001b[39m]\u001b[38;5;241m.\u001b[39mastype(\u001b[38;5;28mint\u001b[39m)  \u001b[38;5;66;03m# 1 or 2\u001b[39;00m\n\u001b[1;32m---> 36\u001b[0m fit \u001b[38;5;241m=\u001b[39m \u001b[43moptimize\u001b[49m\u001b[38;5;241;43m.\u001b[39;49m\u001b[43mminimize\u001b[49m\u001b[43m(\u001b[49m\u001b[43mCPT_fit\u001b[49m\u001b[43m,\u001b[49m\u001b[43m \u001b[49m\u001b[43mx0\u001b[49m\u001b[43m \u001b[49m\u001b[38;5;241;43m=\u001b[39;49m\u001b[43m \u001b[49m\u001b[43mnp\u001b[49m\u001b[38;5;241;43m.\u001b[39;49m\u001b[43marray\u001b[49m\u001b[43m(\u001b[49m\u001b[43m[\u001b[49m\u001b[38;5;241;43m0.5\u001b[39;49m\u001b[43m,\u001b[49m\u001b[43m \u001b[49m\u001b[38;5;241;43m0.5\u001b[39;49m\u001b[43m,\u001b[49m\u001b[43m \u001b[49m\u001b[38;5;241;43m0.5\u001b[39;49m\u001b[43m,\u001b[49m\u001b[43m \u001b[49m\u001b[38;5;241;43m0.5\u001b[39;49m\u001b[43m,\u001b[49m\u001b[43m \u001b[49m\u001b[38;5;241;43m0.05\u001b[39;49m\u001b[43m]\u001b[49m\u001b[43m)\u001b[49m\u001b[43m,\u001b[49m\n\u001b[0;32m     37\u001b[0m \u001b[43m                        \u001b[49m\u001b[43mmethod\u001b[49m\u001b[38;5;241;43m=\u001b[39;49m\u001b[38;5;124;43m'\u001b[39;49m\u001b[38;5;124;43mNelder-Mead\u001b[39;49m\u001b[38;5;124;43m'\u001b[39;49m\u001b[43m,\u001b[49m\u001b[43m \u001b[49m\u001b[43margs\u001b[49m\u001b[38;5;241;43m=\u001b[39;49m\u001b[43m(\u001b[49m\u001b[43mgames\u001b[49m\u001b[43m,\u001b[49m\u001b[43m \u001b[49m\u001b[43mchoices\u001b[49m\u001b[43m)\u001b[49m\u001b[43m)\u001b[49m \n\u001b[0;32m     39\u001b[0m \u001b[38;5;28mprint\u001b[39m(fit\u001b[38;5;241m.\u001b[39mmessage, \u001b[38;5;124m'\u001b[39m\u001b[38;5;130;01m\\n\u001b[39;00m\u001b[38;5;124mNumber of iters:\u001b[39m\u001b[38;5;124m'\u001b[39m,fit\u001b[38;5;241m.\u001b[39mnit, \u001b[38;5;124m'\u001b[39m\u001b[38;5;130;01m\\n\u001b[39;00m\u001b[38;5;124mOptimisation succes?\u001b[39m\u001b[38;5;124m'\u001b[39m, fit\u001b[38;5;241m.\u001b[39msuccess, \u001b[38;5;124m'\u001b[39m\u001b[38;5;130;01m\\n\u001b[39;00m\u001b[38;5;130;01m\\n\u001b[39;00m\u001b[38;5;124mParametervalues:\u001b[39m\u001b[38;5;124m'\u001b[39m)\n\u001b[0;32m     40\u001b[0m var \u001b[38;5;241m=\u001b[39m [\u001b[38;5;124m'\u001b[39m\u001b[38;5;124malpha\u001b[39m\u001b[38;5;124m'\u001b[39m, \u001b[38;5;124m'\u001b[39m\u001b[38;5;124mbeta\u001b[39m\u001b[38;5;124m'\u001b[39m, \u001b[38;5;124m'\u001b[39m\u001b[38;5;124mlambda\u001b[39m\u001b[38;5;124m'\u001b[39m, \u001b[38;5;124m'\u001b[39m\u001b[38;5;124mgamma\u001b[39m\u001b[38;5;124m'\u001b[39m, \u001b[38;5;124m'\u001b[39m\u001b[38;5;124mtheta\u001b[39m\u001b[38;5;124m'\u001b[39m]\n",
      "File \u001b[1;32m~\\AppData\\Local\\Programs\\Python\\Python310\\lib\\site-packages\\scipy\\optimize\\_minimize.py:669\u001b[0m, in \u001b[0;36mminimize\u001b[1;34m(fun, x0, args, method, jac, hess, hessp, bounds, constraints, tol, callback, options)\u001b[0m\n\u001b[0;32m    666\u001b[0m     bounds \u001b[38;5;241m=\u001b[39m standardize_bounds(bounds, x0, meth)\n\u001b[0;32m    668\u001b[0m \u001b[38;5;28;01mif\u001b[39;00m meth \u001b[38;5;241m==\u001b[39m \u001b[38;5;124m'\u001b[39m\u001b[38;5;124mnelder-mead\u001b[39m\u001b[38;5;124m'\u001b[39m:\n\u001b[1;32m--> 669\u001b[0m     res \u001b[38;5;241m=\u001b[39m _minimize_neldermead(fun, x0, args, callback, bounds\u001b[38;5;241m=\u001b[39mbounds,\n\u001b[0;32m    670\u001b[0m                                \u001b[38;5;241m*\u001b[39m\u001b[38;5;241m*\u001b[39moptions)\n\u001b[0;32m    671\u001b[0m \u001b[38;5;28;01melif\u001b[39;00m meth \u001b[38;5;241m==\u001b[39m \u001b[38;5;124m'\u001b[39m\u001b[38;5;124mpowell\u001b[39m\u001b[38;5;124m'\u001b[39m:\n\u001b[0;32m    672\u001b[0m     res \u001b[38;5;241m=\u001b[39m _minimize_powell(fun, x0, args, callback, bounds, \u001b[38;5;241m*\u001b[39m\u001b[38;5;241m*\u001b[39moptions)\n",
      "File \u001b[1;32m~\\AppData\\Local\\Programs\\Python\\Python310\\lib\\site-packages\\scipy\\optimize\\_optimize.py:793\u001b[0m, in \u001b[0;36m_minimize_neldermead\u001b[1;34m(func, x0, args, callback, maxiter, maxfev, disp, return_all, initial_simplex, xatol, fatol, adaptive, bounds, **unknown_options)\u001b[0m\n\u001b[0;32m    791\u001b[0m \u001b[38;5;28;01mtry\u001b[39;00m:\n\u001b[0;32m    792\u001b[0m     \u001b[38;5;28;01mfor\u001b[39;00m k \u001b[38;5;129;01min\u001b[39;00m \u001b[38;5;28mrange\u001b[39m(N \u001b[38;5;241m+\u001b[39m \u001b[38;5;241m1\u001b[39m):\n\u001b[1;32m--> 793\u001b[0m         fsim[k] \u001b[38;5;241m=\u001b[39m \u001b[43mfunc\u001b[49m\u001b[43m(\u001b[49m\u001b[43msim\u001b[49m\u001b[43m[\u001b[49m\u001b[43mk\u001b[49m\u001b[43m]\u001b[49m\u001b[43m)\u001b[49m\n\u001b[0;32m    794\u001b[0m \u001b[38;5;28;01mexcept\u001b[39;00m _MaxFuncCallError:\n\u001b[0;32m    795\u001b[0m     \u001b[38;5;28;01mpass\u001b[39;00m\n",
      "File \u001b[1;32m~\\AppData\\Local\\Programs\\Python\\Python310\\lib\\site-packages\\scipy\\optimize\\_optimize.py:496\u001b[0m, in \u001b[0;36m_wrap_scalar_function_maxfun_validation.<locals>.function_wrapper\u001b[1;34m(x, *wrapper_args)\u001b[0m\n\u001b[0;32m    494\u001b[0m ncalls[\u001b[38;5;241m0\u001b[39m] \u001b[38;5;241m+\u001b[39m\u001b[38;5;241m=\u001b[39m \u001b[38;5;241m1\u001b[39m\n\u001b[0;32m    495\u001b[0m \u001b[38;5;66;03m# A copy of x is sent to the user function (gh13740)\u001b[39;00m\n\u001b[1;32m--> 496\u001b[0m fx \u001b[38;5;241m=\u001b[39m \u001b[43mfunction\u001b[49m\u001b[43m(\u001b[49m\u001b[43mnp\u001b[49m\u001b[38;5;241;43m.\u001b[39;49m\u001b[43mcopy\u001b[49m\u001b[43m(\u001b[49m\u001b[43mx\u001b[49m\u001b[43m)\u001b[49m\u001b[43m,\u001b[49m\u001b[43m \u001b[49m\u001b[38;5;241;43m*\u001b[39;49m\u001b[43m(\u001b[49m\u001b[43mwrapper_args\u001b[49m\u001b[43m \u001b[49m\u001b[38;5;241;43m+\u001b[39;49m\u001b[43m \u001b[49m\u001b[43margs\u001b[49m\u001b[43m)\u001b[49m\u001b[43m)\u001b[49m\n\u001b[0;32m    497\u001b[0m \u001b[38;5;66;03m# Ideally, we'd like to a have a true scalar returned from f(x). For\u001b[39;00m\n\u001b[0;32m    498\u001b[0m \u001b[38;5;66;03m# backwards-compatibility, also allow np.array([1.3]),\u001b[39;00m\n\u001b[0;32m    499\u001b[0m \u001b[38;5;66;03m# np.array([[1.3]]) etc.\u001b[39;00m\n\u001b[0;32m    500\u001b[0m \u001b[38;5;28;01mif\u001b[39;00m \u001b[38;5;129;01mnot\u001b[39;00m np\u001b[38;5;241m.\u001b[39misscalar(fx):\n",
      "Input \u001b[1;32mIn [11]\u001b[0m, in \u001b[0;36mCPT_fit\u001b[1;34m(params, games, choices)\u001b[0m\n\u001b[0;32m      9\u001b[0m sub_probs \u001b[38;5;241m=\u001b[39m vec_prob_weight(games[:, \u001b[38;5;28mrange\u001b[39m(\u001b[38;5;241m0\u001b[39m,l,\u001b[38;5;241m2\u001b[39m)], gamma) \u001b[38;5;66;03m# p1, p2, p3, p4\u001b[39;00m\n\u001b[0;32m     11\u001b[0m \u001b[38;5;66;03m# calculate expected values\u001b[39;00m\n\u001b[1;32m---> 12\u001b[0m expected_v \u001b[38;5;241m=\u001b[39m \u001b[43mvec_EV\u001b[49m(sub_outcomes, sub_probs)\n\u001b[0;32m     14\u001b[0m \u001b[38;5;66;03m# calculate probability of choosing the first option\u001b[39;00m\n\u001b[0;32m     15\u001b[0m ss \u001b[38;5;241m=\u001b[39m vec_choice(np\u001b[38;5;241m.\u001b[39msum(expected_v[:, :m], axis\u001b[38;5;241m=\u001b[39m\u001b[38;5;241m1\u001b[39m, keepdims\u001b[38;5;241m=\u001b[39m\u001b[38;5;28;01mTrue\u001b[39;00m),\n\u001b[0;32m     16\u001b[0m                 np\u001b[38;5;241m.\u001b[39msum(expected_v[:, m:], axis\u001b[38;5;241m=\u001b[39m\u001b[38;5;241m1\u001b[39m, keepdims\u001b[38;5;241m=\u001b[39m\u001b[38;5;28;01mTrue\u001b[39;00m), theta)\n",
      "\u001b[1;31mNameError\u001b[0m: name 'vec_EV' is not defined"
     ]
    }
   ],
   "source": [
    "def CPT_fit(params, games, choices):\n",
    "    alpha, beta, labda, gamma, theta = params\n",
    "    l, m = games.shape[1], games.shape[1] // 4\n",
    "    \n",
    "    # calculate subjective values based\n",
    "    sub_outcomes = vec_sub_value(games[:, range(1,l,2)], alpha, beta, labda) # o1, o2, o3, o4\n",
    "    \n",
    "    # calculate subjectieve probabilities\n",
    "    sub_probs = vec_prob_weight(games[:, range(0,l,2)], gamma) # p1, p2, p3, p4\n",
    "    \n",
    "    # calculate expected values\n",
    "    expected_v = vec_EV(sub_outcomes, sub_probs)\n",
    "    \n",
    "    # calculate probability of choosing the first option\n",
    "    ss = vec_choice(np.sum(expected_v[:, :m], axis=1, keepdims=True),\n",
    "                    np.sum(expected_v[:, m:], axis=1, keepdims=True), theta)\n",
    "    \n",
    "    # make a list with probabilities of first and second option \n",
    "    ls = np.concatenate([ss, 1 - ss], axis=1)\n",
    "    \n",
    "    # select the probabilities of the choice of the subject\n",
    "    probs_of_choice = [probs[choice-1] for probs, choice in zip(ls, choices)]\n",
    "    \n",
    "    return -1 * np.sum(np.log(probs_of_choice))\n",
    "\n",
    "\n",
    "\n",
    "vec_choice = np.vectorize(cpt_choice, excluded=[2])\n",
    "\n",
    "with open(\"data_LC4.txt\") as f:\n",
    "    data = np.loadtxt(f, dtype=float, delimiter=\"\\t\", skiprows=1)\n",
    "\n",
    "games = data[:,3:11]               # p1, o1, p2, o2, p3, o3, p4, o4\n",
    "choices = data[:, 12].astype(int)  # 1 or 2\n",
    "\n",
    "fit = optimize.minimize(CPT_fit, x0 = np.array([0.5, 0.5, 0.5, 0.5, 0.05]),\n",
    "                        method='Nelder-Mead', args=(games, choices)) \n",
    "\n",
    "print(fit.message, '\\nNumber of iters:',fit.nit, '\\nOptimisation succes?', fit.success, '\\n\\nParametervalues:')\n",
    "var = ['alpha', 'beta', 'lambda', 'gamma', 'theta']\n",
    "for i in range(5):\n",
    "    print(var[i]+\" = %.5f\" % fit.x[i])\n",
    "    \n",
    "print('\\n',fit.fun)"
   ]
  },
  {
   "cell_type": "markdown",
   "metadata": {},
   "source": [
    "Welke parameterwaarden fitten de data van de proefpersonen het beste? En als we deze parameters voor waar aannemen, hoe kijken deze proefpersonen tegen winsten en verliezen aan? Hoe weegt deze persoon waarschijnlijkheden? (oftwel beschrijf de parameter waardes in normale mensen taal)"
   ]
  },
  {
   "cell_type": "markdown",
   "metadata": {},
   "source": [
    "> *Antwoord*"
   ]
  },
  {
   "cell_type": "markdown",
   "metadata": {},
   "source": [
    "<br>\n",
    "\n",
    "### Q4.b (4 pts)\n",
    "Maak gebruik van bovenstaande functie en fit die op je eigen data `studentnummer_data.txt`. Wat zijn jouw parameter schattingen en wat betekenen die?"
   ]
  },
  {
   "cell_type": "code",
   "execution_count": null,
   "metadata": {},
   "outputs": [],
   "source": [
    "# TO DO"
   ]
  },
  {
   "cell_type": "markdown",
   "metadata": {},
   "source": [
    "> *Antwoord*"
   ]
  },
  {
   "cell_type": "markdown",
   "metadata": {},
   "source": [
    "### Assignment 4b: Prisoners Dilemma Competitie\n",
    "We hebben in het college over social decision-making onder andere het prisonders dilemma game besproken. Kijk het voor de zekerheid nog een keer na. We gaan het nu met z'n allen spelen en dat is ook deel 2 van het huiswerk. Open hiervoor het `Assignment_4b_Competition.ipynb` in de competition map."
   ]
  }
 ],
 "metadata": {
  "kernelspec": {
   "display_name": "Python 3 (ipykernel)",
   "language": "python",
   "name": "python3"
  },
  "language_info": {
   "codemirror_mode": {
    "name": "ipython",
    "version": 3
   },
   "file_extension": ".py",
   "mimetype": "text/x-python",
   "name": "python",
   "nbconvert_exporter": "python",
   "pygments_lexer": "ipython3",
   "version": "3.10.2"
  }
 },
 "nbformat": 4,
 "nbformat_minor": 2
}
